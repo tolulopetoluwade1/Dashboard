{
 "cells": [
  {
   "cell_type": "code",
   "execution_count": 163,
   "id": "c2cadcb4",
   "metadata": {},
   "outputs": [],
   "source": [
    "import pandas as pd\n",
    "import numpy as np\n",
    "import matplotlib.pyplot as plt \n",
    "\n"
   ]
  },
  {
   "cell_type": "code",
   "execution_count": 164,
   "id": "025fb856",
   "metadata": {},
   "outputs": [
    {
     "data": {
      "text/html": [
       "<div>\n",
       "<style scoped>\n",
       "    .dataframe tbody tr th:only-of-type {\n",
       "        vertical-align: middle;\n",
       "    }\n",
       "\n",
       "    .dataframe tbody tr th {\n",
       "        vertical-align: top;\n",
       "    }\n",
       "\n",
       "    .dataframe thead th {\n",
       "        text-align: right;\n",
       "    }\n",
       "</style>\n",
       "<table border=\"1\" class=\"dataframe\">\n",
       "  <thead>\n",
       "    <tr style=\"text-align: right;\">\n",
       "      <th></th>\n",
       "      <th>lang_id</th>\n",
       "      <th>text</th>\n",
       "    </tr>\n",
       "  </thead>\n",
       "  <tbody>\n",
       "    <tr>\n",
       "      <th>0</th>\n",
       "      <td>xho</td>\n",
       "      <td>umgaqo-siseko wenza amalungiselelo kumaziko ax...</td>\n",
       "    </tr>\n",
       "    <tr>\n",
       "      <th>1</th>\n",
       "      <td>xho</td>\n",
       "      <td>i-dha iya kuba nobulumko bokubeka umsebenzi na...</td>\n",
       "    </tr>\n",
       "    <tr>\n",
       "      <th>2</th>\n",
       "      <td>eng</td>\n",
       "      <td>the province of kwazulu-natal department of tr...</td>\n",
       "    </tr>\n",
       "    <tr>\n",
       "      <th>3</th>\n",
       "      <td>nso</td>\n",
       "      <td>o netefatša gore o ba file dilo ka moka tše le...</td>\n",
       "    </tr>\n",
       "    <tr>\n",
       "      <th>4</th>\n",
       "      <td>ven</td>\n",
       "      <td>khomishini ya ndinganyiso ya mbeu yo ewa maana...</td>\n",
       "    </tr>\n",
       "  </tbody>\n",
       "</table>\n",
       "</div>"
      ],
      "text/plain": [
       "  lang_id                                               text\n",
       "0     xho  umgaqo-siseko wenza amalungiselelo kumaziko ax...\n",
       "1     xho  i-dha iya kuba nobulumko bokubeka umsebenzi na...\n",
       "2     eng  the province of kwazulu-natal department of tr...\n",
       "3     nso  o netefatša gore o ba file dilo ka moka tše le...\n",
       "4     ven  khomishini ya ndinganyiso ya mbeu yo ewa maana..."
      ]
     },
     "execution_count": 164,
     "metadata": {},
     "output_type": "execute_result"
    }
   ],
   "source": [
    "df = pd.read_csv(\"train_set.csv\")\n",
    "df.head()"
   ]
  },
  {
   "cell_type": "code",
   "execution_count": 165,
   "id": "4a886da3",
   "metadata": {},
   "outputs": [
    {
     "data": {
      "text/html": [
       "<div>\n",
       "<style scoped>\n",
       "    .dataframe tbody tr th:only-of-type {\n",
       "        vertical-align: middle;\n",
       "    }\n",
       "\n",
       "    .dataframe tbody tr th {\n",
       "        vertical-align: top;\n",
       "    }\n",
       "\n",
       "    .dataframe thead th {\n",
       "        text-align: right;\n",
       "    }\n",
       "</style>\n",
       "<table border=\"1\" class=\"dataframe\">\n",
       "  <thead>\n",
       "    <tr style=\"text-align: right;\">\n",
       "      <th></th>\n",
       "      <th>lang_id</th>\n",
       "      <th>text</th>\n",
       "    </tr>\n",
       "  </thead>\n",
       "  <tbody>\n",
       "    <tr>\n",
       "      <th>7321</th>\n",
       "      <td>tsn</td>\n",
       "      <td>tlhalosa ka moo diponagalo tse dikgolo le thul...</td>\n",
       "    </tr>\n",
       "    <tr>\n",
       "      <th>13396</th>\n",
       "      <td>nbl</td>\n",
       "      <td>nawufuna iindaba zekhaya zinikele iphandle eli...</td>\n",
       "    </tr>\n",
       "    <tr>\n",
       "      <th>11373</th>\n",
       "      <td>tso</td>\n",
       "      <td>xikongomelonkulu xa mfumo xa nkarhi wo koma i ...</td>\n",
       "    </tr>\n",
       "    <tr>\n",
       "      <th>22762</th>\n",
       "      <td>ssw</td>\n",
       "      <td>sengatsi kukhona lanako ngiva kutsi ake ngimla...</td>\n",
       "    </tr>\n",
       "    <tr>\n",
       "      <th>21005</th>\n",
       "      <td>ssw</td>\n",
       "      <td>lelikomiti litawucocisana ngemniningwane walol...</td>\n",
       "    </tr>\n",
       "  </tbody>\n",
       "</table>\n",
       "</div>"
      ],
      "text/plain": [
       "      lang_id                                               text\n",
       "7321      tsn  tlhalosa ka moo diponagalo tse dikgolo le thul...\n",
       "13396     nbl  nawufuna iindaba zekhaya zinikele iphandle eli...\n",
       "11373     tso  xikongomelonkulu xa mfumo xa nkarhi wo koma i ...\n",
       "22762     ssw  sengatsi kukhona lanako ngiva kutsi ake ngimla...\n",
       "21005     ssw  lelikomiti litawucocisana ngemniningwane walol..."
      ]
     },
     "execution_count": 165,
     "metadata": {},
     "output_type": "execute_result"
    }
   ],
   "source": [
    "df.sample(5)"
   ]
  },
  {
   "cell_type": "markdown",
   "id": "9e9295ba",
   "metadata": {},
   "source": [
    "### Data Cleaning "
   ]
  },
  {
   "cell_type": "code",
   "execution_count": 166,
   "id": "f82a6e0b",
   "metadata": {},
   "outputs": [
    {
     "name": "stdout",
     "output_type": "stream",
     "text": [
      "<class 'pandas.core.frame.DataFrame'>\n",
      "RangeIndex: 33000 entries, 0 to 32999\n",
      "Data columns (total 2 columns):\n",
      " #   Column   Non-Null Count  Dtype \n",
      "---  ------   --------------  ----- \n",
      " 0   lang_id  33000 non-null  object\n",
      " 1   text     33000 non-null  object\n",
      "dtypes: object(2)\n",
      "memory usage: 515.8+ KB\n"
     ]
    }
   ],
   "source": [
    "df.info()"
   ]
  },
  {
   "cell_type": "code",
   "execution_count": 167,
   "id": "75130e06",
   "metadata": {},
   "outputs": [],
   "source": [
    "# Changing Target to Labels\n",
    "\n",
    "from sklearn.preprocessing import LabelEncoder\n",
    "le = LabelEncoder()\n",
    "df['lang_id'] = le.fit_transform(df['lang_id'])"
   ]
  },
  {
   "cell_type": "code",
   "execution_count": 168,
   "id": "d2384c7d",
   "metadata": {},
   "outputs": [
    {
     "data": {
      "text/html": [
       "<div>\n",
       "<style scoped>\n",
       "    .dataframe tbody tr th:only-of-type {\n",
       "        vertical-align: middle;\n",
       "    }\n",
       "\n",
       "    .dataframe tbody tr th {\n",
       "        vertical-align: top;\n",
       "    }\n",
       "\n",
       "    .dataframe thead th {\n",
       "        text-align: right;\n",
       "    }\n",
       "</style>\n",
       "<table border=\"1\" class=\"dataframe\">\n",
       "  <thead>\n",
       "    <tr style=\"text-align: right;\">\n",
       "      <th></th>\n",
       "      <th>lang_id</th>\n",
       "      <th>text</th>\n",
       "    </tr>\n",
       "  </thead>\n",
       "  <tbody>\n",
       "    <tr>\n",
       "      <th>8969</th>\n",
       "      <td>4</td>\n",
       "      <td>e sekema se netefaditse hore ditumellano tsa s...</td>\n",
       "    </tr>\n",
       "    <tr>\n",
       "      <th>4518</th>\n",
       "      <td>3</td>\n",
       "      <td>unitarian congregations south africa ke mokgat...</td>\n",
       "    </tr>\n",
       "    <tr>\n",
       "      <th>26738</th>\n",
       "      <td>4</td>\n",
       "      <td>ho fumaneha ha metsi a ka bang dimilione tse t...</td>\n",
       "    </tr>\n",
       "    <tr>\n",
       "      <th>5565</th>\n",
       "      <td>10</td>\n",
       "      <td>ubuchwepheshe ukusebenzisa ulwazi onalo amakho...</td>\n",
       "    </tr>\n",
       "    <tr>\n",
       "      <th>20879</th>\n",
       "      <td>3</td>\n",
       "      <td>thuto ya tlhalošo ya tsa leago e lebišitše go ...</td>\n",
       "    </tr>\n",
       "  </tbody>\n",
       "</table>\n",
       "</div>"
      ],
      "text/plain": [
       "       lang_id                                               text\n",
       "8969         4  e sekema se netefaditse hore ditumellano tsa s...\n",
       "4518         3  unitarian congregations south africa ke mokgat...\n",
       "26738        4  ho fumaneha ha metsi a ka bang dimilione tse t...\n",
       "5565        10  ubuchwepheshe ukusebenzisa ulwazi onalo amakho...\n",
       "20879        3  thuto ya tlhalošo ya tsa leago e lebišitše go ..."
      ]
     },
     "execution_count": 168,
     "metadata": {},
     "output_type": "execute_result"
    }
   ],
   "source": [
    "df.sample(5)"
   ]
  },
  {
   "cell_type": "code",
   "execution_count": 169,
   "id": "c56197ec",
   "metadata": {},
   "outputs": [
    {
     "data": {
      "text/plain": [
       "lang_id    0\n",
       "text       0\n",
       "dtype: int64"
      ]
     },
     "execution_count": 169,
     "metadata": {},
     "output_type": "execute_result"
    }
   ],
   "source": [
    "#check missing values \n",
    "df.isnull().sum()"
   ]
  },
  {
   "cell_type": "code",
   "execution_count": 170,
   "id": "db1d3bb2",
   "metadata": {},
   "outputs": [
    {
     "data": {
      "text/plain": [
       "3052"
      ]
     },
     "execution_count": 170,
     "metadata": {},
     "output_type": "execute_result"
    }
   ],
   "source": [
    "#check for duplciated values \n",
    "\n",
    "df.duplicated().sum()"
   ]
  },
  {
   "cell_type": "code",
   "execution_count": 171,
   "id": "14d14f32",
   "metadata": {},
   "outputs": [
    {
     "data": {
      "text/plain": [
       "(33000, 2)"
      ]
     },
     "execution_count": 171,
     "metadata": {},
     "output_type": "execute_result"
    }
   ],
   "source": [
    "df.shape"
   ]
  },
  {
   "cell_type": "code",
   "execution_count": 172,
   "id": "c321b41d",
   "metadata": {},
   "outputs": [
    {
     "data": {
      "text/plain": [
       "(29948, 2)"
      ]
     },
     "execution_count": 172,
     "metadata": {},
     "output_type": "execute_result"
    }
   ],
   "source": [
    "#drop the duplicates and keep the first\n",
    "df.drop_duplicates(keep='first', inplace=True)\n",
    "df.shape"
   ]
  },
  {
   "cell_type": "code",
   "execution_count": 173,
   "id": "8e49312a",
   "metadata": {},
   "outputs": [
    {
     "data": {
      "text/plain": [
       "0"
      ]
     },
     "execution_count": 173,
     "metadata": {},
     "output_type": "execute_result"
    }
   ],
   "source": [
    "df.duplicated().sum()"
   ]
  },
  {
   "cell_type": "markdown",
   "id": "9c2ec497",
   "metadata": {},
   "source": [
    "### EDA"
   ]
  },
  {
   "cell_type": "code",
   "execution_count": 174,
   "id": "567c9f41",
   "metadata": {},
   "outputs": [
    {
     "name": "stderr",
     "output_type": "stream",
     "text": [
      "[nltk_data] Downloading package punkt to\n",
      "[nltk_data]     C:\\Users\\TOLU\\AppData\\Roaming\\nltk_data...\n",
      "[nltk_data]   Package punkt is already up-to-date!\n",
      "[nltk_data] Downloading package stopwords to\n",
      "[nltk_data]     C:\\Users\\TOLU\\AppData\\Roaming\\nltk_data...\n",
      "[nltk_data]   Package stopwords is already up-to-date!\n"
     ]
    },
    {
     "data": {
      "text/plain": [
       "True"
      ]
     },
     "execution_count": 174,
     "metadata": {},
     "output_type": "execute_result"
    }
   ],
   "source": [
    "# Let us do the analysis on No. of Characters, Words, and Sentences Used in every Message\n",
    "\n",
    "import nltk\n",
    "nltk.download('punkt')\n",
    "nltk.download('stopwords')"
   ]
  },
  {
   "cell_type": "code",
   "execution_count": 175,
   "id": "f2415656",
   "metadata": {
    "scrolled": true
   },
   "outputs": [
    {
     "data": {
      "text/html": [
       "<div>\n",
       "<style scoped>\n",
       "    .dataframe tbody tr th:only-of-type {\n",
       "        vertical-align: middle;\n",
       "    }\n",
       "\n",
       "    .dataframe tbody tr th {\n",
       "        vertical-align: top;\n",
       "    }\n",
       "\n",
       "    .dataframe thead th {\n",
       "        text-align: right;\n",
       "    }\n",
       "</style>\n",
       "<table border=\"1\" class=\"dataframe\">\n",
       "  <thead>\n",
       "    <tr style=\"text-align: right;\">\n",
       "      <th></th>\n",
       "      <th>lang_id</th>\n",
       "      <th>text</th>\n",
       "      <th>num_characters</th>\n",
       "    </tr>\n",
       "  </thead>\n",
       "  <tbody>\n",
       "    <tr>\n",
       "      <th>0</th>\n",
       "      <td>9</td>\n",
       "      <td>umgaqo-siseko wenza amalungiselelo kumaziko ax...</td>\n",
       "      <td>220</td>\n",
       "    </tr>\n",
       "    <tr>\n",
       "      <th>1</th>\n",
       "      <td>9</td>\n",
       "      <td>i-dha iya kuba nobulumko bokubeka umsebenzi na...</td>\n",
       "      <td>252</td>\n",
       "    </tr>\n",
       "    <tr>\n",
       "      <th>2</th>\n",
       "      <td>1</td>\n",
       "      <td>the province of kwazulu-natal department of tr...</td>\n",
       "      <td>264</td>\n",
       "    </tr>\n",
       "    <tr>\n",
       "      <th>3</th>\n",
       "      <td>3</td>\n",
       "      <td>o netefatša gore o ba file dilo ka moka tše le...</td>\n",
       "      <td>217</td>\n",
       "    </tr>\n",
       "    <tr>\n",
       "      <th>4</th>\n",
       "      <td>8</td>\n",
       "      <td>khomishini ya ndinganyiso ya mbeu yo ewa maana...</td>\n",
       "      <td>239</td>\n",
       "    </tr>\n",
       "  </tbody>\n",
       "</table>\n",
       "</div>"
      ],
      "text/plain": [
       "   lang_id                                               text  num_characters\n",
       "0        9  umgaqo-siseko wenza amalungiselelo kumaziko ax...             220\n",
       "1        9  i-dha iya kuba nobulumko bokubeka umsebenzi na...             252\n",
       "2        1  the province of kwazulu-natal department of tr...             264\n",
       "3        3  o netefatša gore o ba file dilo ka moka tše le...             217\n",
       "4        8  khomishini ya ndinganyiso ya mbeu yo ewa maana...             239"
      ]
     },
     "execution_count": 175,
     "metadata": {},
     "output_type": "execute_result"
    }
   ],
   "source": [
    "# Number of Characters\n",
    "\n",
    "df['num_characters'] = df['text'].apply(len) \n",
    "df.head()"
   ]
  },
  {
   "cell_type": "code",
   "execution_count": 176,
   "id": "605b52ff",
   "metadata": {},
   "outputs": [
    {
     "data": {
      "text/html": [
       "<div>\n",
       "<style scoped>\n",
       "    .dataframe tbody tr th:only-of-type {\n",
       "        vertical-align: middle;\n",
       "    }\n",
       "\n",
       "    .dataframe tbody tr th {\n",
       "        vertical-align: top;\n",
       "    }\n",
       "\n",
       "    .dataframe thead th {\n",
       "        text-align: right;\n",
       "    }\n",
       "</style>\n",
       "<table border=\"1\" class=\"dataframe\">\n",
       "  <thead>\n",
       "    <tr style=\"text-align: right;\">\n",
       "      <th></th>\n",
       "      <th>lang_id</th>\n",
       "      <th>text</th>\n",
       "      <th>num_characters</th>\n",
       "      <th>num_words</th>\n",
       "    </tr>\n",
       "  </thead>\n",
       "  <tbody>\n",
       "    <tr>\n",
       "      <th>0</th>\n",
       "      <td>9</td>\n",
       "      <td>umgaqo-siseko wenza amalungiselelo kumaziko ax...</td>\n",
       "      <td>220</td>\n",
       "      <td>24</td>\n",
       "    </tr>\n",
       "    <tr>\n",
       "      <th>1</th>\n",
       "      <td>9</td>\n",
       "      <td>i-dha iya kuba nobulumko bokubeka umsebenzi na...</td>\n",
       "      <td>252</td>\n",
       "      <td>31</td>\n",
       "    </tr>\n",
       "    <tr>\n",
       "      <th>2</th>\n",
       "      <td>1</td>\n",
       "      <td>the province of kwazulu-natal department of tr...</td>\n",
       "      <td>264</td>\n",
       "      <td>37</td>\n",
       "    </tr>\n",
       "    <tr>\n",
       "      <th>3</th>\n",
       "      <td>3</td>\n",
       "      <td>o netefatša gore o ba file dilo ka moka tše le...</td>\n",
       "      <td>217</td>\n",
       "      <td>40</td>\n",
       "    </tr>\n",
       "    <tr>\n",
       "      <th>4</th>\n",
       "      <td>8</td>\n",
       "      <td>khomishini ya ndinganyiso ya mbeu yo ewa maana...</td>\n",
       "      <td>239</td>\n",
       "      <td>43</td>\n",
       "    </tr>\n",
       "  </tbody>\n",
       "</table>\n",
       "</div>"
      ],
      "text/plain": [
       "   lang_id                                               text  num_characters  \\\n",
       "0        9  umgaqo-siseko wenza amalungiselelo kumaziko ax...             220   \n",
       "1        9  i-dha iya kuba nobulumko bokubeka umsebenzi na...             252   \n",
       "2        1  the province of kwazulu-natal department of tr...             264   \n",
       "3        3  o netefatša gore o ba file dilo ka moka tše le...             217   \n",
       "4        8  khomishini ya ndinganyiso ya mbeu yo ewa maana...             239   \n",
       "\n",
       "   num_words  \n",
       "0         24  \n",
       "1         31  \n",
       "2         37  \n",
       "3         40  \n",
       "4         43  "
      ]
     },
     "execution_count": 176,
     "metadata": {},
     "output_type": "execute_result"
    }
   ],
   "source": [
    "# Number of words\n",
    "\n",
    "df['num_words'] = df['text'].apply(lambda y:len(nltk.word_tokenize(y)))\n",
    "df.head()"
   ]
  },
  {
   "cell_type": "code",
   "execution_count": 177,
   "id": "3604ade5",
   "metadata": {},
   "outputs": [
    {
     "data": {
      "text/html": [
       "<div>\n",
       "<style scoped>\n",
       "    .dataframe tbody tr th:only-of-type {\n",
       "        vertical-align: middle;\n",
       "    }\n",
       "\n",
       "    .dataframe tbody tr th {\n",
       "        vertical-align: top;\n",
       "    }\n",
       "\n",
       "    .dataframe thead th {\n",
       "        text-align: right;\n",
       "    }\n",
       "</style>\n",
       "<table border=\"1\" class=\"dataframe\">\n",
       "  <thead>\n",
       "    <tr style=\"text-align: right;\">\n",
       "      <th></th>\n",
       "      <th>lang_id</th>\n",
       "      <th>text</th>\n",
       "      <th>num_characters</th>\n",
       "      <th>num_words</th>\n",
       "      <th>num_sentences</th>\n",
       "    </tr>\n",
       "  </thead>\n",
       "  <tbody>\n",
       "    <tr>\n",
       "      <th>0</th>\n",
       "      <td>9</td>\n",
       "      <td>umgaqo-siseko wenza amalungiselelo kumaziko ax...</td>\n",
       "      <td>220</td>\n",
       "      <td>24</td>\n",
       "      <td>1</td>\n",
       "    </tr>\n",
       "    <tr>\n",
       "      <th>1</th>\n",
       "      <td>9</td>\n",
       "      <td>i-dha iya kuba nobulumko bokubeka umsebenzi na...</td>\n",
       "      <td>252</td>\n",
       "      <td>31</td>\n",
       "      <td>1</td>\n",
       "    </tr>\n",
       "    <tr>\n",
       "      <th>2</th>\n",
       "      <td>1</td>\n",
       "      <td>the province of kwazulu-natal department of tr...</td>\n",
       "      <td>264</td>\n",
       "      <td>37</td>\n",
       "      <td>1</td>\n",
       "    </tr>\n",
       "    <tr>\n",
       "      <th>3</th>\n",
       "      <td>3</td>\n",
       "      <td>o netefatša gore o ba file dilo ka moka tše le...</td>\n",
       "      <td>217</td>\n",
       "      <td>40</td>\n",
       "      <td>1</td>\n",
       "    </tr>\n",
       "    <tr>\n",
       "      <th>4</th>\n",
       "      <td>8</td>\n",
       "      <td>khomishini ya ndinganyiso ya mbeu yo ewa maana...</td>\n",
       "      <td>239</td>\n",
       "      <td>43</td>\n",
       "      <td>1</td>\n",
       "    </tr>\n",
       "  </tbody>\n",
       "</table>\n",
       "</div>"
      ],
      "text/plain": [
       "   lang_id                                               text  num_characters  \\\n",
       "0        9  umgaqo-siseko wenza amalungiselelo kumaziko ax...             220   \n",
       "1        9  i-dha iya kuba nobulumko bokubeka umsebenzi na...             252   \n",
       "2        1  the province of kwazulu-natal department of tr...             264   \n",
       "3        3  o netefatša gore o ba file dilo ka moka tše le...             217   \n",
       "4        8  khomishini ya ndinganyiso ya mbeu yo ewa maana...             239   \n",
       "\n",
       "   num_words  num_sentences  \n",
       "0         24              1  \n",
       "1         31              1  \n",
       "2         37              1  \n",
       "3         40              1  \n",
       "4         43              1  "
      ]
     },
     "execution_count": 177,
     "metadata": {},
     "output_type": "execute_result"
    }
   ],
   "source": [
    "# Number of sentences\n",
    "\n",
    "df['num_sentences'] = df['text'].apply(lambda y:len(nltk.sent_tokenize(y)))\n",
    "df.head()"
   ]
  },
  {
   "cell_type": "code",
   "execution_count": 178,
   "id": "5a32c7d0",
   "metadata": {},
   "outputs": [
    {
     "data": {
      "image/png": "[encoded data removed]",
      "text/plain": [
       "<Figure size 1000x800 with 1 Axes>"
      ]
     },
     "metadata": {},
     "output_type": "display_data"
    }
   ],
   "source": [
    "import seaborn as sns\n",
    "\n",
    "# frequency of the number of characters per text\n",
    "\n",
    "plt.figure(figsize=(10,8))\n",
    "sns.histplot(df[df['lang_id'] == 0]['num_characters'], color='orange')\n",
    "sns.histplot(df[df['lang_id'] == 1]['num_characters'],color='purple')\n",
    "sns.histplot(df[df['lang_id'] == 2]['num_characters'],color='purple')\n",
    "sns.histplot(df[df['lang_id'] == 3]['num_characters'],color='purple')\n",
    "sns.histplot(df[df['lang_id'] == 4]['num_characters'],color='purple')\n",
    "sns.histplot(df[df['lang_id'] == 5]['num_characters'],color='purple')\n",
    "sns.histplot(df[df['lang_id'] == 6]['num_characters'],color='purple')\n",
    "sns.histplot(df[df['lang_id'] == 7]['num_characters'],color='purple')\n",
    "sns.histplot(df[df['lang_id'] == 8]['num_characters'],color='purple')\n",
    "sns.histplot(df[df['lang_id'] == 9]['num_characters'],color='purple')\n",
    "sns.histplot(df[df['lang_id'] == 10]['num_characters'],color='purple')\n",
    "plt.show()"
   ]
  },
  {
   "cell_type": "code",
   "execution_count": 179,
   "id": "8101bd62",
   "metadata": {},
   "outputs": [
    {
     "data": {
      "image/png": "[encoded data removed]",
      "text/plain": [
       "<Figure size 1000x800 with 1 Axes>"
      ]
     },
     "metadata": {},
     "output_type": "display_data"
    }
   ],
   "source": [
    "# frequency of the number of sentences per text\n",
    "\n",
    "plt.figure(figsize=(10,8))\n",
    "sns.histplot(df[df['lang_id'] == 0]['num_sentences'], color='orange')\n",
    "sns.histplot(df[df['lang_id'] == 1]['num_sentences'],color='purple')\n",
    "sns.histplot(df[df['lang_id'] == 2]['num_sentences'],color='purple')\n",
    "sns.histplot(df[df['lang_id'] == 3]['num_sentences'],color='purple')\n",
    "sns.histplot(df[df['lang_id'] == 4]['num_sentences'],color='purple')\n",
    "sns.histplot(df[df['lang_id'] == 5]['num_sentences'],color='purple')\n",
    "sns.histplot(df[df['lang_id'] == 6]['num_sentences'],color='purple')\n",
    "sns.histplot(df[df['lang_id'] == 7]['num_sentences'],color='purple')\n",
    "sns.histplot(df[df['lang_id'] == 8]['num_sentences'],color='purple')\n",
    "sns.histplot(df[df['lang_id'] == 9]['num_sentences'],color='purple')\n",
    "sns.histplot(df[df['lang_id'] == 10]['num_sentences'],color='purple')\n",
    "plt.show()"
   ]
  },
  {
   "cell_type": "code",
   "execution_count": 180,
   "id": "650b233e",
   "metadata": {},
   "outputs": [
    {
     "data": {
      "image/png": "[encoded data removed]",
      "text/plain": [
       "<Figure size 1000x800 with 1 Axes>"
      ]
     },
     "metadata": {},
     "output_type": "display_data"
    }
   ],
   "source": [
    "# frequency of the number of words per text\n",
    "\n",
    "plt.figure(figsize=(10,8))\n",
    "sns.histplot(df[df['lang_id'] == 0]['num_words'], color='orange')\n",
    "sns.histplot(df[df['lang_id'] == 1]['num_words'],color='purple')\n",
    "sns.histplot(df[df['lang_id'] == 2]['num_words'],color='purple')\n",
    "sns.histplot(df[df['lang_id'] == 3]['num_words'],color='purple')\n",
    "sns.histplot(df[df['lang_id'] == 4]['num_words'],color='purple')\n",
    "sns.histplot(df[df['lang_id'] == 5]['num_words'],color='purple')\n",
    "sns.histplot(df[df['lang_id'] == 6]['num_words'],color='purple')\n",
    "sns.histplot(df[df['lang_id'] == 7]['num_words'],color='purple')\n",
    "sns.histplot(df[df['lang_id'] == 8]['num_words'],color='purple')\n",
    "sns.histplot(df[df['lang_id'] == 9]['num_words'],color='purple')\n",
    "sns.histplot(df[df['lang_id'] == 10]['num_words'],color='purple')\n",
    "plt.show()"
   ]
  },
  {
   "cell_type": "markdown",
   "id": "9eed67bd",
   "metadata": {},
   "source": [
    "### Data Preprocessing\n",
    "\n",
    "1. Lowercase\n",
    "2. Tokenization\n",
    "3. Removing Special Character\n",
    "4. Removing stop words and punctuation\n",
    "5. stemming"
   ]
  },
  {
   "cell_type": "code",
   "execution_count": 181,
   "id": "285d28ad",
   "metadata": {},
   "outputs": [],
   "source": [
    "# Write a function to remove punctucation, stopwords followed by stemming\n",
    "\n",
    "from nltk.corpus import stopwords\n",
    "import string\n",
    "from nltk.stem import PorterStemmer\n",
    "\n",
    "ps = PorterStemmer()\n",
    "\n",
    "def text_processing(text):\n",
    "    text = nltk.word_tokenize(text.lower())\n",
    "    y = []\n",
    "    for i in text:\n",
    "        if i.isalnum():\n",
    "            y.append(i)\n",
    "\n",
    "    text = y[:]\n",
    "    y.clear()\n",
    "    \n",
    "    for i in text:\n",
    "        if i not in stopwords.words('english') and i not in string.punctuation:\n",
    "            stemming = ps.stem(i)\n",
    "            y.append(stemming)\n",
    "            \n",
    "    return \" \".join(y)"
   ]
  },
  {
   "cell_type": "code",
   "execution_count": 182,
   "id": "ae2b3b99",
   "metadata": {},
   "outputs": [
    {
     "data": {
      "text/plain": [
       "'wenza amalungiselelo kumaziko ax'"
      ]
     },
     "execution_count": 182,
     "metadata": {},
     "output_type": "execute_result"
    }
   ],
   "source": [
    "text_processing('umgaqo-siseko wenza amalungiselelo kumaziko ax')"
   ]
  },
  {
   "cell_type": "code",
   "execution_count": 185,
   "id": "421c026d",
   "metadata": {},
   "outputs": [],
   "source": [
    "df['new_text'] = df['text'].apply(text_processing)"
   ]
  },
  {
   "cell_type": "code",
   "execution_count": 186,
   "id": "2d65eaae",
   "metadata": {},
   "outputs": [
    {
     "data": {
      "text/html": [
       "<div>\n",
       "<style scoped>\n",
       "    .dataframe tbody tr th:only-of-type {\n",
       "        vertical-align: middle;\n",
       "    }\n",
       "\n",
       "    .dataframe tbody tr th {\n",
       "        vertical-align: top;\n",
       "    }\n",
       "\n",
       "    .dataframe thead th {\n",
       "        text-align: right;\n",
       "    }\n",
       "</style>\n",
       "<table border=\"1\" class=\"dataframe\">\n",
       "  <thead>\n",
       "    <tr style=\"text-align: right;\">\n",
       "      <th></th>\n",
       "      <th>lang_id</th>\n",
       "      <th>text</th>\n",
       "      <th>num_characters</th>\n",
       "      <th>num_words</th>\n",
       "      <th>num_sentences</th>\n",
       "      <th>new_text</th>\n",
       "    </tr>\n",
       "  </thead>\n",
       "  <tbody>\n",
       "    <tr>\n",
       "      <th>0</th>\n",
       "      <td>9</td>\n",
       "      <td>umgaqo-siseko wenza amalungiselelo kumaziko ax...</td>\n",
       "      <td>220</td>\n",
       "      <td>24</td>\n",
       "      <td>1</td>\n",
       "      <td>wenza amalungiselelo kumaziko axhasa ulawulo l...</td>\n",
       "    </tr>\n",
       "    <tr>\n",
       "      <th>1</th>\n",
       "      <td>9</td>\n",
       "      <td>i-dha iya kuba nobulumko bokubeka umsebenzi na...</td>\n",
       "      <td>252</td>\n",
       "      <td>31</td>\n",
       "      <td>1</td>\n",
       "      <td>iya kuba nobulumko bokubeka umsebenzi naphi na...</td>\n",
       "    </tr>\n",
       "    <tr>\n",
       "      <th>2</th>\n",
       "      <td>1</td>\n",
       "      <td>the province of kwazulu-natal department of tr...</td>\n",
       "      <td>264</td>\n",
       "      <td>37</td>\n",
       "      <td>1</td>\n",
       "      <td>provinc depart transport invit tender establis...</td>\n",
       "    </tr>\n",
       "    <tr>\n",
       "      <th>3</th>\n",
       "      <td>3</td>\n",
       "      <td>o netefatša gore o ba file dilo ka moka tše le...</td>\n",
       "      <td>217</td>\n",
       "      <td>40</td>\n",
       "      <td>1</td>\n",
       "      <td>netefatša gore ba file dilo ka moka tše le dum...</td>\n",
       "    </tr>\n",
       "    <tr>\n",
       "      <th>4</th>\n",
       "      <td>8</td>\n",
       "      <td>khomishini ya ndinganyiso ya mbeu yo ewa maana...</td>\n",
       "      <td>239</td>\n",
       "      <td>43</td>\n",
       "      <td>1</td>\n",
       "      <td>khomishini ya ndinganyiso ya mbeu yo ewa maana...</td>\n",
       "    </tr>\n",
       "  </tbody>\n",
       "</table>\n",
       "</div>"
      ],
      "text/plain": [
       "   lang_id                                               text  num_characters  \\\n",
       "0        9  umgaqo-siseko wenza amalungiselelo kumaziko ax...             220   \n",
       "1        9  i-dha iya kuba nobulumko bokubeka umsebenzi na...             252   \n",
       "2        1  the province of kwazulu-natal department of tr...             264   \n",
       "3        3  o netefatša gore o ba file dilo ka moka tše le...             217   \n",
       "4        8  khomishini ya ndinganyiso ya mbeu yo ewa maana...             239   \n",
       "\n",
       "   num_words  num_sentences                                           new_text  \n",
       "0         24              1  wenza amalungiselelo kumaziko axhasa ulawulo l...  \n",
       "1         31              1  iya kuba nobulumko bokubeka umsebenzi naphi na...  \n",
       "2         37              1  provinc depart transport invit tender establis...  \n",
       "3         40              1  netefatša gore ba file dilo ka moka tše le dum...  \n",
       "4         43              1  khomishini ya ndinganyiso ya mbeu yo ewa maana...  "
      ]
     },
     "execution_count": 186,
     "metadata": {},
     "output_type": "execute_result"
    }
   ],
   "source": [
    "df.head()"
   ]
  },
  {
   "cell_type": "code",
   "execution_count": 207,
   "id": "a2014377",
   "metadata": {},
   "outputs": [
    {
     "data": {
      "text/plain": [
       "94353"
      ]
     },
     "execution_count": 207,
     "metadata": {},
     "output_type": "execute_result"
    }
   ],
   "source": [
    "# Converting the label to List of Words\n",
    "\n",
    "x = df[df['lang_id'] == 0]['new_text'].str.cat(sep= \" \")\n",
    "text_msg_word_list = x.split()\n",
    "len(text_msg_word_list)"
   ]
  },
  {
   "cell_type": "code",
   "execution_count": 208,
   "id": "aea270ac",
   "metadata": {},
   "outputs": [
    {
     "data": {
      "text/plain": [
       "64384"
      ]
     },
     "execution_count": 208,
     "metadata": {},
     "output_type": "execute_result"
    }
   ],
   "source": [
    "# Converting the label to List of Words\n",
    "\n",
    "x = df[df['lang_id'] == 1]['new_text'].str.cat(sep= \" \")\n",
    "text_msg_word_list = x.split()\n",
    "len(text_msg_word_list)"
   ]
  },
  {
   "cell_type": "code",
   "execution_count": 209,
   "id": "d4747529",
   "metadata": {},
   "outputs": [
    {
     "data": {
      "text/plain": [
       "59191"
      ]
     },
     "execution_count": 209,
     "metadata": {},
     "output_type": "execute_result"
    }
   ],
   "source": [
    "# Converting the label to List of Words\n",
    "\n",
    "x = df[df['lang_id'] == 2]['new_text'].str.cat(sep= \" \")\n",
    "text_msg_word_list = x.split()\n",
    "len(text_msg_word_list)"
   ]
  },
  {
   "cell_type": "code",
   "execution_count": 210,
   "id": "2d5dc391",
   "metadata": {},
   "outputs": [
    {
     "data": {
      "text/plain": [
       "122349"
      ]
     },
     "execution_count": 210,
     "metadata": {},
     "output_type": "execute_result"
    }
   ],
   "source": [
    "# Converting the label to List of Words\n",
    "\n",
    "x = df[df['lang_id'] == 3]['new_text'].str.cat(sep= \" \")\n",
    "text_msg_word_list = x.split()\n",
    "len(text_msg_word_list)"
   ]
  },
  {
   "cell_type": "code",
   "execution_count": 211,
   "id": "4a5334da",
   "metadata": {},
   "outputs": [
    {
     "data": {
      "text/plain": [
       "122149"
      ]
     },
     "execution_count": 211,
     "metadata": {},
     "output_type": "execute_result"
    }
   ],
   "source": [
    "# Converting the label to List of Words\n",
    "\n",
    "x = df[df['lang_id'] == 4]['new_text'].str.cat(sep= \" \")\n",
    "text_msg_word_list = x.split()\n",
    "len(text_msg_word_list)"
   ]
  },
  {
   "cell_type": "code",
   "execution_count": 213,
   "id": "fd0872bf",
   "metadata": {},
   "outputs": [
    {
     "data": {
      "text/plain": [
       "62435"
      ]
     },
     "execution_count": 213,
     "metadata": {},
     "output_type": "execute_result"
    }
   ],
   "source": [
    "# Converting the label to List of Words\n",
    "\n",
    "x = df[df['lang_id'] == 5]['new_text'].str.cat(sep= \" \")\n",
    "text_msg_word_list = x.split()\n",
    "len(text_msg_word_list)"
   ]
  },
  {
   "cell_type": "code",
   "execution_count": 214,
   "id": "475cc4ab",
   "metadata": {},
   "outputs": [
    {
     "data": {
      "text/plain": [
       "121075"
      ]
     },
     "execution_count": 214,
     "metadata": {},
     "output_type": "execute_result"
    }
   ],
   "source": [
    "# Converting the label to List of Words\n",
    "\n",
    "x = df[df['lang_id'] == 6]['new_text'].str.cat(sep= \" \")\n",
    "text_msg_word_list = x.split()\n",
    "len(text_msg_word_list)"
   ]
  },
  {
   "cell_type": "code",
   "execution_count": 215,
   "id": "0b0d5fb1",
   "metadata": {},
   "outputs": [
    {
     "data": {
      "text/plain": [
       "113674"
      ]
     },
     "execution_count": 215,
     "metadata": {},
     "output_type": "execute_result"
    }
   ],
   "source": [
    "# Converting the label to List of Words\n",
    "\n",
    "x = df[df['lang_id'] == 7]['new_text'].str.cat(sep= \" \")\n",
    "text_msg_word_list = x.split()\n",
    "len(text_msg_word_list)"
   ]
  },
  {
   "cell_type": "code",
   "execution_count": 216,
   "id": "3e41e075",
   "metadata": {},
   "outputs": [
    {
     "data": {
      "text/plain": [
       "108685"
      ]
     },
     "execution_count": 216,
     "metadata": {},
     "output_type": "execute_result"
    }
   ],
   "source": [
    "# Converting the label to List of Words\n",
    "\n",
    "x = df[df['lang_id'] == 8]['new_text'].str.cat(sep= \" \")\n",
    "text_msg_word_list = x.split()\n",
    "len(text_msg_word_list)"
   ]
  },
  {
   "cell_type": "code",
   "execution_count": 217,
   "id": "4851de40",
   "metadata": {},
   "outputs": [
    {
     "data": {
      "text/plain": [
       "70206"
      ]
     },
     "execution_count": 217,
     "metadata": {},
     "output_type": "execute_result"
    }
   ],
   "source": [
    "# Converting the label to List of Words\n",
    "\n",
    "x = df[df['lang_id'] == 9]['new_text'].str.cat(sep= \" \")\n",
    "text_msg_word_list = x.split()\n",
    "len(text_msg_word_list)"
   ]
  },
  {
   "cell_type": "code",
   "execution_count": 218,
   "id": "78bb753b",
   "metadata": {},
   "outputs": [
    {
     "data": {
      "text/plain": [
       "75700"
      ]
     },
     "execution_count": 218,
     "metadata": {},
     "output_type": "execute_result"
    }
   ],
   "source": [
    "# Converting the label to List of Words\n",
    "\n",
    "x = df[df['lang_id'] == 10]['new_text'].str.cat(sep= \" \")\n",
    "text_msg_word_list = x.split()\n",
    "len(text_msg_word_list)"
   ]
  },
  {
   "cell_type": "code",
   "execution_count": 219,
   "id": "667d245f",
   "metadata": {},
   "outputs": [
    {
     "data": {
      "text/html": [
       "<div>\n",
       "<style scoped>\n",
       "    .dataframe tbody tr th:only-of-type {\n",
       "        vertical-align: middle;\n",
       "    }\n",
       "\n",
       "    .dataframe tbody tr th {\n",
       "        vertical-align: top;\n",
       "    }\n",
       "\n",
       "    .dataframe thead th {\n",
       "        text-align: right;\n",
       "    }\n",
       "</style>\n",
       "<table border=\"1\" class=\"dataframe\">\n",
       "  <thead>\n",
       "    <tr style=\"text-align: right;\">\n",
       "      <th></th>\n",
       "      <th>0</th>\n",
       "      <th>1</th>\n",
       "    </tr>\n",
       "  </thead>\n",
       "  <tbody>\n",
       "    <tr>\n",
       "      <th>0</th>\n",
       "      <td>noma</td>\n",
       "      <td>1743</td>\n",
       "    </tr>\n",
       "    <tr>\n",
       "      <th>1</th>\n",
       "      <td>kany</td>\n",
       "      <td>957</td>\n",
       "    </tr>\n",
       "    <tr>\n",
       "      <th>2</th>\n",
       "      <td>ukuthi</td>\n",
       "      <td>876</td>\n",
       "    </tr>\n",
       "    <tr>\n",
       "      <th>3</th>\n",
       "      <td>uma</td>\n",
       "      <td>731</td>\n",
       "    </tr>\n",
       "    <tr>\n",
       "      <th>4</th>\n",
       "      <td>futhi</td>\n",
       "      <td>590</td>\n",
       "    </tr>\n",
       "  </tbody>\n",
       "</table>\n",
       "</div>"
      ],
      "text/plain": [
       "        0     1\n",
       "0    noma  1743\n",
       "1    kany   957\n",
       "2  ukuthi   876\n",
       "3     uma   731\n",
       "4   futhi   590"
      ]
     },
     "execution_count": 219,
     "metadata": {},
     "output_type": "execute_result"
    }
   ],
   "source": [
    "# Counting Top 10 Words from the text\n",
    "\n",
    "from collections import Counter\n",
    "text_top_10words = pd.DataFrame(Counter(text_msg_word_list).most_common(10))\n",
    "text_top_10words.head()"
   ]
  },
  {
   "cell_type": "code",
   "execution_count": 220,
   "id": "30b18718",
   "metadata": {},
   "outputs": [
    {
     "data": {
      "image/png": "[encoded data removed]",
      "text/plain": [
       "<Figure size 800x600 with 1 Axes>"
      ]
     },
     "metadata": {},
     "output_type": "display_data"
    }
   ],
   "source": [
    "# Bar plot of top 10 text words\n",
    "\n",
    "\n",
    "plt.figure(figsize=(8, 6))\n",
    "sns.barplot(x= text_top_10words[0], y= text_top_10words[1])\n",
    "plt.xticks(rotation=90)\n",
    "plt.xlabel('Words')  \n",
    "plt.ylabel('Frequency')  \n",
    "plt.show()"
   ]
  },
  {
   "cell_type": "markdown",
   "id": "0b4d8785",
   "metadata": {},
   "source": [
    "### Model Building "
   ]
  },
  {
   "cell_type": "code",
   "execution_count": 222,
   "id": "ae7b23ad",
   "metadata": {},
   "outputs": [],
   "source": [
    "# First we will convert the text to vectors using the bag of words technique \n",
    "\n",
    "from sklearn.feature_extraction.text import TfidfVectorizer\n",
    "tf = TfidfVectorizer(max_features=3000)"
   ]
  },
  {
   "cell_type": "code",
   "execution_count": 225,
   "id": "fb0baf69",
   "metadata": {},
   "outputs": [
    {
     "data": {
      "text/plain": [
       "array([[0., 0., 0., ..., 0., 0., 0.],\n",
       "       [0., 0., 0., ..., 0., 0., 0.],\n",
       "       [0., 0., 0., ..., 0., 0., 0.],\n",
       "       ...,\n",
       "       [0., 0., 0., ..., 0., 0., 0.],\n",
       "       [0., 0., 0., ..., 0., 0., 0.],\n",
       "       [0., 0., 0., ..., 0., 0., 0.]])"
      ]
     },
     "execution_count": 225,
     "metadata": {},
     "output_type": "execute_result"
    }
   ],
   "source": [
    "X = tf.fit_transform(df['new_text']).toarray()\n",
    "\n",
    "X"
   ]
  },
  {
   "cell_type": "code",
   "execution_count": 227,
   "id": "f4fe5d33",
   "metadata": {},
   "outputs": [
    {
     "data": {
      "text/plain": [
       "array([9, 9, 1, ..., 1, 9, 4])"
      ]
     },
     "execution_count": 227,
     "metadata": {},
     "output_type": "execute_result"
    }
   ],
   "source": [
    "y = np.array(df['lang_id'])\n",
    "\n",
    "y"
   ]
  },
  {
   "cell_type": "code",
   "execution_count": 228,
   "id": "35c585da",
   "metadata": {},
   "outputs": [],
   "source": [
    "from sklearn.model_selection import train_test_split\n",
    "X_train,X_test,y_train,y_test = train_test_split(X,y,random_state=48,test_size=0.30)"
   ]
  },
  {
   "cell_type": "code",
   "execution_count": 229,
   "id": "e0ecec5c",
   "metadata": {},
   "outputs": [
    {
     "data": {
      "text/plain": [
       "(20963, 3000)"
      ]
     },
     "execution_count": 229,
     "metadata": {},
     "output_type": "execute_result"
    }
   ],
   "source": [
    "X_train.shape"
   ]
  },
  {
   "cell_type": "code",
   "execution_count": 230,
   "id": "836ea1e4",
   "metadata": {},
   "outputs": [],
   "source": [
    "from sklearn.naive_bayes import GaussianNB,BernoulliNB,MultinomialNB\n",
    "from sklearn.metrics import accuracy_score,precision_score,confusion_matrix,f1_score\n",
    "\n",
    "gnb = GaussianNB()\n",
    "bnb = BernoulliNB()\n",
    "mnb = MultinomialNB()"
   ]
  },
  {
   "cell_type": "code",
   "execution_count": null,
   "id": "87a91099",
   "metadata": {},
   "outputs": [],
   "source": [
    "import matplotlib.pyplot as plt\n",
    "from sklearn.metrics import f1_score\n",
    "\n",
    "def model_scoring(model, X_train, X_test, y_train, y_test):\n",
    "    model.fit(X_train, y_train)\n",
    "    pred = model.predict(X_test)\n",
    "    f1score = f1_score(y_test, pred)\n",
    "    return f1score\n",
    "\n",
    "# list of models to evaluate\n",
    "models = [gnb, bnb, mnb]\n",
    "\n",
    "f1_scores = []\n",
    "\n",
    "for model in models:\n",
    "    f1score = model_scoring(model, X_train, X_test, y_train, y_test)\n",
    "    f1_scores.append(f1score)\n",
    "\n",
    "# Plotting F1 scores\n",
    "\n",
    "x = np.arange(len(models))\n",
    "width = 0.35\n",
    "\n",
    "fig, ax = plt.subplots()\n",
    "rects = ax.bar(x, f1_scores, width)\n",
    "\n",
    "ax.set_ylabel('F1 Score')\n",
    "ax.set_title('F1 Scores by Model')\n",
    "ax.set_xticks(x)\n",
    "ax.set_xticklabels(models)\n",
    "\n",
    "plt.show()\n",
    "\n",
    "\n",
    "\n",
    "\n",
    "\n"
   ]
  },
  {
   "cell_type": "code",
   "execution_count": null,
   "id": "f4fd339f",
   "metadata": {},
   "outputs": [],
   "source": []
  }
 ],
 "metadata": {
  "kernelspec": {
   "display_name": "Python 3 (ipykernel)",
   "language": "python",
   "name": "python3"
  },
  "language_info": {
   "codemirror_mode": {
    "name": "ipython",
    "version": 3
   },
   "file_extension": ".py",
   "mimetype": "text/x-python",
   "name": "python",
   "nbconvert_exporter": "python",
   "pygments_lexer": "ipython3",
   "version": "3.9.16"
  }
 },
 "nbformat": 4,
 "nbformat_minor": 5
}
